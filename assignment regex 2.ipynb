{
 "cells": [
  {
   "cell_type": "code",
   "execution_count": 1,
   "id": "f75cb111",
   "metadata": {},
   "outputs": [],
   "source": [
    "import pandas as pd\n",
    "import re\n"
   ]
  },
  {
   "cell_type": "code",
   "execution_count": 2,
   "id": "9d67d9d2",
   "metadata": {},
   "outputs": [],
   "source": [
    "#Question 1"
   ]
  },
  {
   "cell_type": "code",
   "execution_count": 3,
   "id": "b4d83561",
   "metadata": {},
   "outputs": [],
   "source": [
    "sample_text=  'Python Exercises, PHP exercises.'"
   ]
  },
  {
   "cell_type": "code",
   "execution_count": 4,
   "id": "5b825a28",
   "metadata": {},
   "outputs": [
    {
     "name": "stdout",
     "output_type": "stream",
     "text": [
      "Python:Exercises::PHP:exercises:\n"
     ]
    }
   ],
   "source": [
    "print(re.sub(\"[ ,.]\",\":\",sample_text))"
   ]
  },
  {
   "cell_type": "code",
   "execution_count": 5,
   "id": "8bc57718",
   "metadata": {},
   "outputs": [],
   "source": [
    "#Question 2\n"
   ]
  },
  {
   "cell_type": "code",
   "execution_count": 6,
   "id": "134ab986",
   "metadata": {},
   "outputs": [],
   "source": [
    "data={'SUMMARY' : ['hello, world!', 'XXXXX test', '123four, five:; six...']}"
   ]
  },
  {
   "cell_type": "code",
   "execution_count": 7,
   "id": "c9cd04e3",
   "metadata": {},
   "outputs": [],
   "source": [
    "df=pd.DataFrame(data)"
   ]
  },
  {
   "cell_type": "code",
   "execution_count": 9,
   "id": "d57917f5",
   "metadata": {},
   "outputs": [
    {
     "data": {
      "text/html": [
       "<div>\n",
       "<style scoped>\n",
       "    .dataframe tbody tr th:only-of-type {\n",
       "        vertical-align: middle;\n",
       "    }\n",
       "\n",
       "    .dataframe tbody tr th {\n",
       "        vertical-align: top;\n",
       "    }\n",
       "\n",
       "    .dataframe thead th {\n",
       "        text-align: right;\n",
       "    }\n",
       "</style>\n",
       "<table border=\"1\" class=\"dataframe\">\n",
       "  <thead>\n",
       "    <tr style=\"text-align: right;\">\n",
       "      <th></th>\n",
       "      <th>SUMMARY</th>\n",
       "    </tr>\n",
       "  </thead>\n",
       "  <tbody>\n",
       "    <tr>\n",
       "      <th>0</th>\n",
       "      <td>hello, world!</td>\n",
       "    </tr>\n",
       "    <tr>\n",
       "      <th>1</th>\n",
       "      <td>XXXXX test</td>\n",
       "    </tr>\n",
       "    <tr>\n",
       "      <th>2</th>\n",
       "      <td>123four, five:; six...</td>\n",
       "    </tr>\n",
       "  </tbody>\n",
       "</table>\n",
       "</div>"
      ],
      "text/plain": [
       "                  SUMMARY\n",
       "0           hello, world!\n",
       "1              XXXXX test\n",
       "2  123four, five:; six..."
      ]
     },
     "execution_count": 9,
     "metadata": {},
     "output_type": "execute_result"
    }
   ],
   "source": [
    "df"
   ]
  },
  {
   "cell_type": "code",
   "execution_count": 11,
   "id": "4849e6a1",
   "metadata": {},
   "outputs": [
    {
     "data": {
      "text/html": [
       "<div>\n",
       "<style scoped>\n",
       "    .dataframe tbody tr th:only-of-type {\n",
       "        vertical-align: middle;\n",
       "    }\n",
       "\n",
       "    .dataframe tbody tr th {\n",
       "        vertical-align: top;\n",
       "    }\n",
       "\n",
       "    .dataframe thead th {\n",
       "        text-align: right;\n",
       "    }\n",
       "</style>\n",
       "<table border=\"1\" class=\"dataframe\">\n",
       "  <thead>\n",
       "    <tr style=\"text-align: right;\">\n",
       "      <th></th>\n",
       "      <th>SUMMARY</th>\n",
       "    </tr>\n",
       "  </thead>\n",
       "  <tbody>\n",
       "    <tr>\n",
       "      <th>0</th>\n",
       "      <td>hello world</td>\n",
       "    </tr>\n",
       "    <tr>\n",
       "      <th>1</th>\n",
       "      <td>XXXXX test</td>\n",
       "    </tr>\n",
       "    <tr>\n",
       "      <th>2</th>\n",
       "      <td>four five six</td>\n",
       "    </tr>\n",
       "  </tbody>\n",
       "</table>\n",
       "</div>"
      ],
      "text/plain": [
       "         SUMMARY\n",
       "0    hello world\n",
       "1     XXXXX test\n",
       "2  four five six"
      ]
     },
     "execution_count": 11,
     "metadata": {},
     "output_type": "execute_result"
    }
   ],
   "source": [
    "df['SUMMARY']=df['SUMMARY'].str.replace('[^a-zA-Z\\s]','',regex=True)\n",
    "df"
   ]
  },
  {
   "cell_type": "code",
   "execution_count": 12,
   "id": "f67cdcba",
   "metadata": {},
   "outputs": [],
   "source": [
    "#Question 3"
   ]
  },
  {
   "cell_type": "code",
   "execution_count": 23,
   "id": "4d32a304",
   "metadata": {},
   "outputs": [],
   "source": [
    "regex_pattern=re.compile(r\"\\b\\w{4}\\b\")"
   ]
  },
  {
   "cell_type": "code",
   "execution_count": 20,
   "id": "20b261c0",
   "metadata": {},
   "outputs": [],
   "source": [
    "matches=regex_pattern.findall(\"Lorem Ipsum is simply dummy text of the printing and typesetting industry. Lorem Ipsum has been the industry's standard dummy text ever since the 1500s, when an unknown printer took a galley of type and scrambled it to make a type specimen book. It has survived not only five centuries, but also the leap into electronic typesetting, remaining essentially unchanged. It was popularised in the 1960s with the release of Letraset sheets containing Lorem Ipsum passages, and more recently with desktop publishing software like Aldus PageMaker including versions of Lorem Ipsum.\")"
   ]
  },
  {
   "cell_type": "code",
   "execution_count": 24,
   "id": "5825adb0",
   "metadata": {},
   "outputs": [
    {
     "name": "stdout",
     "output_type": "stream",
     "text": [
      "['text', 'been', 'text', 'ever', 'when', 'took', 'type', 'make', 'type', 'book', 'only', 'five', 'also', 'leap', 'into', 'with', 'more', 'with', 'like']\n"
     ]
    }
   ],
   "source": [
    "print(matches)"
   ]
  },
  {
   "cell_type": "code",
   "execution_count": 16,
   "id": "97f9d0df",
   "metadata": {},
   "outputs": [],
   "source": [
    "#Question 4"
   ]
  },
  {
   "cell_type": "code",
   "execution_count": 22,
   "id": "58c7afde",
   "metadata": {},
   "outputs": [],
   "source": [
    "regex_pattern1=re.compile(r\"\\b\\w{3,5}\\b\")"
   ]
  },
  {
   "cell_type": "code",
   "execution_count": 26,
   "id": "71faec32",
   "metadata": {},
   "outputs": [],
   "source": [
    "matches1=regex_pattern1.findall(\"Lorem Ipsum is simply dummy text of the printing and typesetting industry. Lorem Ipsum has been the industry's standard dummy text ever since the 1500s, when an unknown printer took a galley of type and scrambled it to make a type specimen book. It has survived not only five centuries, but also the leap into electronic typesetting, remaining essentially unchanged. It was popularised in the 1960s with the release of Letraset sheets containing Lorem Ipsum passages, and more recently with desktop publishing software like Aldus PageMaker including versions of Lorem Ipsum.\")"
   ]
  },
  {
   "cell_type": "code",
   "execution_count": 27,
   "id": "87229aca",
   "metadata": {},
   "outputs": [
    {
     "name": "stdout",
     "output_type": "stream",
     "text": [
      "['Lorem', 'Ipsum', 'dummy', 'text', 'the', 'and', 'Lorem', 'Ipsum', 'has', 'been', 'the', 'dummy', 'text', 'ever', 'since', 'the', '1500s', 'when', 'took', 'type', 'and', 'make', 'type', 'book', 'has', 'not', 'only', 'five', 'but', 'also', 'the', 'leap', 'into', 'was', 'the', '1960s', 'with', 'the', 'Lorem', 'Ipsum', 'and', 'more', 'with', 'like', 'Aldus', 'Lorem', 'Ipsum']\n"
     ]
    }
   ],
   "source": [
    "print(matches1)"
   ]
  },
  {
   "cell_type": "code",
   "execution_count": 28,
   "id": "58615b9a",
   "metadata": {},
   "outputs": [],
   "source": [
    "#Question 5"
   ]
  },
  {
   "cell_type": "code",
   "execution_count": 60,
   "id": "5b29e45a",
   "metadata": {},
   "outputs": [],
   "source": [
    "def funcrem(str):\n",
    "    regex_pattern=re.compile(r'[()]')\n",
    "    matches=regex_pattern.sub('',str)\n",
    "    return matches\n",
    "str=\"[example(.com), hr@fliprobo(.com), github(.com), Hello (Data Science World), Data (Scientist)]\"\n"
   ]
  },
  {
   "cell_type": "code",
   "execution_count": 61,
   "id": "18d32914",
   "metadata": {},
   "outputs": [
    {
     "name": "stdout",
     "output_type": "stream",
     "text": [
      "[example.com, hr@fliprobo.com, github.com, Hello Data Science World, Data Scientist]\n"
     ]
    }
   ],
   "source": [
    "matches1=funcrem(str)\n",
    "print(matches1)"
   ]
  },
  {
   "cell_type": "code",
   "execution_count": 62,
   "id": "a4f6b572",
   "metadata": {},
   "outputs": [],
   "source": [
    "#Question 6"
   ]
  },
  {
   "cell_type": "code",
   "execution_count": 241,
   "id": "0071e47a",
   "metadata": {
    "scrolled": false
   },
   "outputs": [
    {
     "ename": "SyntaxError",
     "evalue": "EOL while scanning string literal (944887591.py, line 5)",
     "output_type": "error",
     "traceback": [
      "\u001b[1;36m  File \u001b[1;32m\"C:\\Users\\Home\\AppData\\Local\\Temp\\ipykernel_8096\\944887591.py\"\u001b[1;36m, line \u001b[1;32m5\u001b[0m\n\u001b[1;33m    matches=(re.sub(r'^\\s+,\" \",line))\u001b[0m\n\u001b[1;37m                                     ^\u001b[0m\n\u001b[1;31mSyntaxError\u001b[0m\u001b[1;31m:\u001b[0m EOL while scanning string literal\n"
     ]
    }
   ],
   "source": [
    "with open(r\"C:\\Users\\Home\\Desktop\\sample.txt\") as file:\n",
    "     text=file.read()\n",
    "print(text)\n",
    "for line in file:\n",
    "           matches=(re.sub(r'^\\s+,\" \",line))\n",
    "print(matches)"
   ]
  },
  {
   "cell_type": "code",
   "execution_count": 106,
   "id": "6f0c46c7",
   "metadata": {},
   "outputs": [],
   "source": [
    "#Question 7"
   ]
  },
  {
   "cell_type": "code",
   "execution_count": 108,
   "id": "c4659afa",
   "metadata": {},
   "outputs": [],
   "source": [
    "sample_text=\"ImportanceOfRegularExpressionsInPython\""
   ]
  },
  {
   "cell_type": "code",
   "execution_count": 109,
   "id": "960ac1aa",
   "metadata": {},
   "outputs": [],
   "source": [
    "expected_output=re.findall('[A-Z][a-z]*',sample_text)"
   ]
  },
  {
   "cell_type": "code",
   "execution_count": 110,
   "id": "d4692514",
   "metadata": {},
   "outputs": [
    {
     "name": "stdout",
     "output_type": "stream",
     "text": [
      "['Importance', 'Of', 'Regular', 'Expressions', 'In', 'Python']\n"
     ]
    }
   ],
   "source": [
    "print(expected_output)"
   ]
  },
  {
   "cell_type": "markdown",
   "id": "dcf7dbbe",
   "metadata": {},
   "source": []
  },
  {
   "cell_type": "code",
   "execution_count": 114,
   "id": "a28a7768",
   "metadata": {},
   "outputs": [],
   "source": [
    "#Question 8"
   ]
  },
  {
   "cell_type": "code",
   "execution_count": 160,
   "id": "a16e4d48",
   "metadata": {},
   "outputs": [
    {
     "name": "stdout",
     "output_type": "stream",
     "text": [
      "RegularExpression 1 IsAn 2 ImportantTopic 3 InPython\n"
     ]
    }
   ],
   "source": [
    "def func(str):\n",
    "    pattern='(\\d+)([A-Za-z]+)'\n",
    "    matches=re.sub(pattern,r' \\1 \\2',str)\n",
    "    return matches\n",
    "sample_text=\"RegularExpression1IsAn2ImportantTopic3InPython\"\n",
    "expected_output=func(sample_text)\n",
    "print(expected_output)"
   ]
  },
  {
   "cell_type": "code",
   "execution_count": 147,
   "id": "872e86e0",
   "metadata": {},
   "outputs": [],
   "source": [
    "#Question 9 "
   ]
  },
  {
   "cell_type": "code",
   "execution_count": 264,
   "id": "6b1b7804",
   "metadata": {},
   "outputs": [
    {
     "name": "stdout",
     "output_type": "stream",
     "text": [
      "Regular Expression 1Is An 2Important Topic 3In Python\n"
     ]
    }
   ],
   "source": [
    "def func(str):\n",
    "    pattern='(?<=[a-z])([A-Z\\d])'\n",
    "    matches=re.sub(pattern,r' \\1',str)\n",
    "    return matches\n",
    "sample_text=\"RegularExpression1IsAn2ImportantTopic3InPython\"\n",
    "expected_output=func(sample_text)\n",
    "print(expected_output)"
   ]
  },
  {
   "cell_type": "code",
   "execution_count": 146,
   "id": "5a403956",
   "metadata": {},
   "outputs": [],
   "source": [
    "#Question 10"
   ]
  },
  {
   "cell_type": "code",
   "execution_count": 127,
   "id": "72d88722",
   "metadata": {},
   "outputs": [],
   "source": [
    "df=pd.read_csv('https://raw.githubusercontent.com/dsrscientist/DSData/master/happiness_score_dataset.csv')"
   ]
  },
  {
   "cell_type": "code",
   "execution_count": 129,
   "id": "630d72b3",
   "metadata": {
    "scrolled": true
   },
   "outputs": [
    {
     "data": {
      "text/html": [
       "<div>\n",
       "<style scoped>\n",
       "    .dataframe tbody tr th:only-of-type {\n",
       "        vertical-align: middle;\n",
       "    }\n",
       "\n",
       "    .dataframe tbody tr th {\n",
       "        vertical-align: top;\n",
       "    }\n",
       "\n",
       "    .dataframe thead th {\n",
       "        text-align: right;\n",
       "    }\n",
       "</style>\n",
       "<table border=\"1\" class=\"dataframe\">\n",
       "  <thead>\n",
       "    <tr style=\"text-align: right;\">\n",
       "      <th></th>\n",
       "      <th>Country</th>\n",
       "      <th>Region</th>\n",
       "      <th>Happiness Rank</th>\n",
       "      <th>Happiness Score</th>\n",
       "      <th>Standard Error</th>\n",
       "      <th>Economy (GDP per Capita)</th>\n",
       "      <th>Family</th>\n",
       "      <th>Health (Life Expectancy)</th>\n",
       "      <th>Freedom</th>\n",
       "      <th>Trust (Government Corruption)</th>\n",
       "      <th>Generosity</th>\n",
       "      <th>Dystopia Residual</th>\n",
       "    </tr>\n",
       "  </thead>\n",
       "  <tbody>\n",
       "    <tr>\n",
       "      <th>0</th>\n",
       "      <td>Switzerland</td>\n",
       "      <td>Western Europe</td>\n",
       "      <td>1</td>\n",
       "      <td>7.587</td>\n",
       "      <td>0.03411</td>\n",
       "      <td>1.39651</td>\n",
       "      <td>1.34951</td>\n",
       "      <td>0.94143</td>\n",
       "      <td>0.66557</td>\n",
       "      <td>0.41978</td>\n",
       "      <td>0.29678</td>\n",
       "      <td>2.51738</td>\n",
       "    </tr>\n",
       "    <tr>\n",
       "      <th>1</th>\n",
       "      <td>Iceland</td>\n",
       "      <td>Western Europe</td>\n",
       "      <td>2</td>\n",
       "      <td>7.561</td>\n",
       "      <td>0.04884</td>\n",
       "      <td>1.30232</td>\n",
       "      <td>1.40223</td>\n",
       "      <td>0.94784</td>\n",
       "      <td>0.62877</td>\n",
       "      <td>0.14145</td>\n",
       "      <td>0.43630</td>\n",
       "      <td>2.70201</td>\n",
       "    </tr>\n",
       "    <tr>\n",
       "      <th>2</th>\n",
       "      <td>Denmark</td>\n",
       "      <td>Western Europe</td>\n",
       "      <td>3</td>\n",
       "      <td>7.527</td>\n",
       "      <td>0.03328</td>\n",
       "      <td>1.32548</td>\n",
       "      <td>1.36058</td>\n",
       "      <td>0.87464</td>\n",
       "      <td>0.64938</td>\n",
       "      <td>0.48357</td>\n",
       "      <td>0.34139</td>\n",
       "      <td>2.49204</td>\n",
       "    </tr>\n",
       "    <tr>\n",
       "      <th>3</th>\n",
       "      <td>Norway</td>\n",
       "      <td>Western Europe</td>\n",
       "      <td>4</td>\n",
       "      <td>7.522</td>\n",
       "      <td>0.03880</td>\n",
       "      <td>1.45900</td>\n",
       "      <td>1.33095</td>\n",
       "      <td>0.88521</td>\n",
       "      <td>0.66973</td>\n",
       "      <td>0.36503</td>\n",
       "      <td>0.34699</td>\n",
       "      <td>2.46531</td>\n",
       "    </tr>\n",
       "    <tr>\n",
       "      <th>4</th>\n",
       "      <td>Canada</td>\n",
       "      <td>North America</td>\n",
       "      <td>5</td>\n",
       "      <td>7.427</td>\n",
       "      <td>0.03553</td>\n",
       "      <td>1.32629</td>\n",
       "      <td>1.32261</td>\n",
       "      <td>0.90563</td>\n",
       "      <td>0.63297</td>\n",
       "      <td>0.32957</td>\n",
       "      <td>0.45811</td>\n",
       "      <td>2.45176</td>\n",
       "    </tr>\n",
       "    <tr>\n",
       "      <th>...</th>\n",
       "      <td>...</td>\n",
       "      <td>...</td>\n",
       "      <td>...</td>\n",
       "      <td>...</td>\n",
       "      <td>...</td>\n",
       "      <td>...</td>\n",
       "      <td>...</td>\n",
       "      <td>...</td>\n",
       "      <td>...</td>\n",
       "      <td>...</td>\n",
       "      <td>...</td>\n",
       "      <td>...</td>\n",
       "    </tr>\n",
       "    <tr>\n",
       "      <th>153</th>\n",
       "      <td>Rwanda</td>\n",
       "      <td>Sub-Saharan Africa</td>\n",
       "      <td>154</td>\n",
       "      <td>3.465</td>\n",
       "      <td>0.03464</td>\n",
       "      <td>0.22208</td>\n",
       "      <td>0.77370</td>\n",
       "      <td>0.42864</td>\n",
       "      <td>0.59201</td>\n",
       "      <td>0.55191</td>\n",
       "      <td>0.22628</td>\n",
       "      <td>0.67042</td>\n",
       "    </tr>\n",
       "    <tr>\n",
       "      <th>154</th>\n",
       "      <td>Benin</td>\n",
       "      <td>Sub-Saharan Africa</td>\n",
       "      <td>155</td>\n",
       "      <td>3.340</td>\n",
       "      <td>0.03656</td>\n",
       "      <td>0.28665</td>\n",
       "      <td>0.35386</td>\n",
       "      <td>0.31910</td>\n",
       "      <td>0.48450</td>\n",
       "      <td>0.08010</td>\n",
       "      <td>0.18260</td>\n",
       "      <td>1.63328</td>\n",
       "    </tr>\n",
       "    <tr>\n",
       "      <th>155</th>\n",
       "      <td>Syria</td>\n",
       "      <td>Middle East and Northern Africa</td>\n",
       "      <td>156</td>\n",
       "      <td>3.006</td>\n",
       "      <td>0.05015</td>\n",
       "      <td>0.66320</td>\n",
       "      <td>0.47489</td>\n",
       "      <td>0.72193</td>\n",
       "      <td>0.15684</td>\n",
       "      <td>0.18906</td>\n",
       "      <td>0.47179</td>\n",
       "      <td>0.32858</td>\n",
       "    </tr>\n",
       "    <tr>\n",
       "      <th>156</th>\n",
       "      <td>Burundi</td>\n",
       "      <td>Sub-Saharan Africa</td>\n",
       "      <td>157</td>\n",
       "      <td>2.905</td>\n",
       "      <td>0.08658</td>\n",
       "      <td>0.01530</td>\n",
       "      <td>0.41587</td>\n",
       "      <td>0.22396</td>\n",
       "      <td>0.11850</td>\n",
       "      <td>0.10062</td>\n",
       "      <td>0.19727</td>\n",
       "      <td>1.83302</td>\n",
       "    </tr>\n",
       "    <tr>\n",
       "      <th>157</th>\n",
       "      <td>Togo</td>\n",
       "      <td>Sub-Saharan Africa</td>\n",
       "      <td>158</td>\n",
       "      <td>2.839</td>\n",
       "      <td>0.06727</td>\n",
       "      <td>0.20868</td>\n",
       "      <td>0.13995</td>\n",
       "      <td>0.28443</td>\n",
       "      <td>0.36453</td>\n",
       "      <td>0.10731</td>\n",
       "      <td>0.16681</td>\n",
       "      <td>1.56726</td>\n",
       "    </tr>\n",
       "  </tbody>\n",
       "</table>\n",
       "<p>158 rows × 12 columns</p>\n",
       "</div>"
      ],
      "text/plain": [
       "         Country                           Region  Happiness Rank  \\\n",
       "0    Switzerland                   Western Europe               1   \n",
       "1        Iceland                   Western Europe               2   \n",
       "2        Denmark                   Western Europe               3   \n",
       "3         Norway                   Western Europe               4   \n",
       "4         Canada                    North America               5   \n",
       "..           ...                              ...             ...   \n",
       "153       Rwanda               Sub-Saharan Africa             154   \n",
       "154        Benin               Sub-Saharan Africa             155   \n",
       "155        Syria  Middle East and Northern Africa             156   \n",
       "156      Burundi               Sub-Saharan Africa             157   \n",
       "157         Togo               Sub-Saharan Africa             158   \n",
       "\n",
       "     Happiness Score  Standard Error  Economy (GDP per Capita)   Family  \\\n",
       "0              7.587         0.03411                   1.39651  1.34951   \n",
       "1              7.561         0.04884                   1.30232  1.40223   \n",
       "2              7.527         0.03328                   1.32548  1.36058   \n",
       "3              7.522         0.03880                   1.45900  1.33095   \n",
       "4              7.427         0.03553                   1.32629  1.32261   \n",
       "..               ...             ...                       ...      ...   \n",
       "153            3.465         0.03464                   0.22208  0.77370   \n",
       "154            3.340         0.03656                   0.28665  0.35386   \n",
       "155            3.006         0.05015                   0.66320  0.47489   \n",
       "156            2.905         0.08658                   0.01530  0.41587   \n",
       "157            2.839         0.06727                   0.20868  0.13995   \n",
       "\n",
       "     Health (Life Expectancy)  Freedom  Trust (Government Corruption)  \\\n",
       "0                     0.94143  0.66557                        0.41978   \n",
       "1                     0.94784  0.62877                        0.14145   \n",
       "2                     0.87464  0.64938                        0.48357   \n",
       "3                     0.88521  0.66973                        0.36503   \n",
       "4                     0.90563  0.63297                        0.32957   \n",
       "..                        ...      ...                            ...   \n",
       "153                   0.42864  0.59201                        0.55191   \n",
       "154                   0.31910  0.48450                        0.08010   \n",
       "155                   0.72193  0.15684                        0.18906   \n",
       "156                   0.22396  0.11850                        0.10062   \n",
       "157                   0.28443  0.36453                        0.10731   \n",
       "\n",
       "     Generosity  Dystopia Residual  \n",
       "0       0.29678            2.51738  \n",
       "1       0.43630            2.70201  \n",
       "2       0.34139            2.49204  \n",
       "3       0.34699            2.46531  \n",
       "4       0.45811            2.45176  \n",
       "..          ...                ...  \n",
       "153     0.22628            0.67042  \n",
       "154     0.18260            1.63328  \n",
       "155     0.47179            0.32858  \n",
       "156     0.19727            1.83302  \n",
       "157     0.16681            1.56726  \n",
       "\n",
       "[158 rows x 12 columns]"
      ]
     },
     "execution_count": 129,
     "metadata": {},
     "output_type": "execute_result"
    }
   ],
   "source": [
    "df"
   ]
  },
  {
   "cell_type": "code",
   "execution_count": 130,
   "id": "023bfa25",
   "metadata": {},
   "outputs": [],
   "source": [
    "df['first_five_letters']=df['Country'].str[:6]"
   ]
  },
  {
   "cell_type": "code",
   "execution_count": 132,
   "id": "bc64e998",
   "metadata": {},
   "outputs": [
    {
     "name": "stdout",
     "output_type": "stream",
     "text": [
      "0      Switze\n",
      "1      Icelan\n",
      "2      Denmar\n",
      "3      Norway\n",
      "4      Canada\n",
      "        ...  \n",
      "153    Rwanda\n",
      "154     Benin\n",
      "155     Syria\n",
      "156    Burund\n",
      "157      Togo\n",
      "Name: first_five_letters, Length: 158, dtype: object\n"
     ]
    }
   ],
   "source": [
    "print(df.first_five_letters)"
   ]
  },
  {
   "cell_type": "code",
   "execution_count": 133,
   "id": "e6c0a2a2",
   "metadata": {},
   "outputs": [],
   "source": [
    "#Quesion 11"
   ]
  },
  {
   "cell_type": "code",
   "execution_count": 165,
   "id": "2444b89b",
   "metadata": {},
   "outputs": [
    {
     "name": "stdout",
     "output_type": "stream",
     "text": [
      "<re.Match object; span=(0, 16), match='abc00123xyz456_0'>\n"
     ]
    }
   ],
   "source": [
    "pattern=('\\w*')\n",
    "string1=\"abc00123xyz456_0%$\"\n",
    "string2=\"abc00123xyz456_0\"\n",
    "matches=re.match(pattern,string1)\n",
    "print(matches)\n"
   ]
  },
  {
   "cell_type": "code",
   "execution_count": 166,
   "id": "ea906a2e",
   "metadata": {},
   "outputs": [
    {
     "name": "stdout",
     "output_type": "stream",
     "text": [
      "<re.Match object; span=(0, 16), match='abc00123xyz456_0'>\n"
     ]
    }
   ],
   "source": [
    "matches=re.match(pattern,string2)\n",
    "print(matches)\n"
   ]
  },
  {
   "cell_type": "code",
   "execution_count": 167,
   "id": "12b2c1cd",
   "metadata": {},
   "outputs": [],
   "source": [
    "#Question 12"
   ]
  },
  {
   "cell_type": "code",
   "execution_count": 182,
   "id": "cb9c524d",
   "metadata": {},
   "outputs": [
    {
     "name": "stdout",
     "output_type": "stream",
     "text": [
      "<re.Match object; span=(0, 1), match='9'>\n"
     ]
    }
   ],
   "source": [
    "pattern=(r'^9*')\n",
    "str1=\"9 The place value of one’s, a number from 1 to 9.\"\n",
    "matches=re.match(pattern,str1)\n",
    "print(matches)"
   ]
  },
  {
   "cell_type": "code",
   "execution_count": 183,
   "id": "63438ac0",
   "metadata": {},
   "outputs": [],
   "source": [
    "#Question 13"
   ]
  },
  {
   "cell_type": "code",
   "execution_count": 50,
   "id": "209b2995",
   "metadata": {},
   "outputs": [
    {
     "name": "stdout",
     "output_type": "stream",
     "text": [
      "192.1.168.2\n"
     ]
    }
   ],
   "source": [
    "target_string=\"192.001.168.002\"\n",
    "result=re.sub(r'0',\"\",target_string)\n",
    "print(result)"
   ]
  },
  {
   "cell_type": "code",
   "execution_count": 43,
   "id": "018d9569",
   "metadata": {},
   "outputs": [],
   "source": [
    "#Question 14"
   ]
  },
  {
   "cell_type": "code",
   "execution_count": 45,
   "id": "f54ca94f",
   "metadata": {},
   "outputs": [
    {
     "name": "stdout",
     "output_type": "stream",
     "text": [
      "On August 15th 1947 that India was declared independent from British colonialism, and the reins of control were handed over to the leaders of the Country.\n"
     ]
    }
   ],
   "source": [
    "with open(r\"C:\\Users\\Home\\Desktop\\sample3.txt\") as file:\n",
    "    text=file.read()\n",
    "print(text)"
   ]
  },
  {
   "cell_type": "code",
   "execution_count": 55,
   "id": "527b6dad",
   "metadata": {},
   "outputs": [
    {
     "name": "stdout",
     "output_type": "stream",
     "text": [
      "['August 15th 1947']\n"
     ]
    }
   ],
   "source": [
    "date_match=re.findall('August 15th 1947',text)\n",
    "print(date_match)"
   ]
  },
  {
   "cell_type": "code",
   "execution_count": 41,
   "id": "710709ea",
   "metadata": {},
   "outputs": [],
   "source": [
    "#Question 15"
   ]
  },
  {
   "cell_type": "code",
   "execution_count": 42,
   "id": "0a0d590e",
   "metadata": {},
   "outputs": [
    {
     "name": "stdout",
     "output_type": "stream",
     "text": [
      "<re.Match object; span=(16, 19), match='fox'>\n",
      "<re.Match object; span=(40, 43), match='dog'>\n",
      "not found\n"
     ]
    }
   ],
   "source": [
    "sample_text=\"The quick brown fox jumps over the lazy dog.\"\n",
    "pattern= ['fox','dog','horse']\n",
    "for p in pattern:\n",
    "    matches=re.search(p,sample_text)\n",
    "    if(matches):\n",
    "        print(matches)\n",
    "    else:\n",
    "        print(\"not found\")"
   ]
  },
  {
   "cell_type": "code",
   "execution_count": 384,
   "id": "de1abfec",
   "metadata": {},
   "outputs": [],
   "source": [
    "#Question 16"
   ]
  },
  {
   "cell_type": "code",
   "execution_count": 394,
   "id": "bc6349fc",
   "metadata": {},
   "outputs": [
    {
     "name": "stdout",
     "output_type": "stream",
     "text": [
      "<re.Match object; span=(16, 19), match='fox'>\n",
      "16\n"
     ]
    }
   ],
   "source": [
    "sample_text='The quick brown fox jumps over the lazy dog.'\n",
    "pattern='fox'\n",
    "matches=re.search(pattern,sample_text)\n",
    "print(matches)\n",
    "print(matches.start())"
   ]
  },
  {
   "cell_type": "code",
   "execution_count": 57,
   "id": "1ec39abd",
   "metadata": {},
   "outputs": [],
   "source": [
    "#Question 17"
   ]
  },
  {
   "cell_type": "code",
   "execution_count": 392,
   "id": "f679d0e4",
   "metadata": {},
   "outputs": [
    {
     "name": "stdout",
     "output_type": "stream",
     "text": [
      "<re.Match object; span=(7, 16), match='exercises'>\n"
     ]
    }
   ],
   "source": [
    "pattern=\"exercises\"\n",
    "sample_text='Python exercises, PHP exercises, C# exercises'\n",
    "matches=re.search(pattern,sample_text)\n",
    "print(matches)"
   ]
  },
  {
   "cell_type": "markdown",
   "id": "96da9bc4",
   "metadata": {},
   "source": [
    "I GOT STUCK AT THIS CODE AND HENCE STARTED FROM 30th Q. I HAVE DONE ALL Q. PLEASE SEE BELOW. SINCE THIS IS MY STARTING , PLEASE EXCUSE ME THIS TIME. WILL KEEP THE MOTIVATION MORE NEXT TIME."
   ]
  },
  {
   "cell_type": "code",
   "execution_count": 56,
   "id": "0a223d4f",
   "metadata": {},
   "outputs": [],
   "source": [
    "#Question 30"
   ]
  },
  {
   "cell_type": "code",
   "execution_count": 218,
   "id": "c7a77bb6",
   "metadata": {},
   "outputs": [
    {
     "name": "stdout",
     "output_type": "stream",
     "text": [
      "[  following example creates   ArrayList   a capacity     elements. 4 elements     added     ArrayList     ArrayList   trimmed accordingly.]\n"
     ]
    }
   ],
   "source": [
    "def funct(stri):\n",
    "    pattern=re.compile(r'\\b\\w{2,4}\\b')\n",
    "    matches=pattern.sub(' ',stri)\n",
    "    return matches\n",
    "stri=\"[The following example creates an ArrayList with a capacity of 50 elements. 4 elements are then added to the ArrayList and the ArrayList is trimmed accordingly.]\"\n",
    "expected=funct(stri)\n",
    "print(expected)"
   ]
  },
  {
   "cell_type": "code",
   "execution_count": 219,
   "id": "2c8865bd",
   "metadata": {},
   "outputs": [],
   "source": [
    "#Question 29\n"
   ]
  },
  {
   "cell_type": "code",
   "execution_count": 234,
   "id": "2a22ec70",
   "metadata": {},
   "outputs": [
    {
     "name": "stdout",
     "output_type": "stream",
     "text": [
      "Ron was born on 12-09-1992 and he was admitted to school 15-12-1999.\n"
     ]
    }
   ],
   "source": [
    "pattern=r'\\d{2}-\\d{2}-\\d{4}'\n",
    "with open(r\"C:\\Users\\Home\\Desktop\\sample1.txt\") as file:\n",
    "    text=file.read()\n",
    "print(text)"
   ]
  },
  {
   "cell_type": "code",
   "execution_count": 236,
   "id": "06652f96",
   "metadata": {},
   "outputs": [
    {
     "name": "stdout",
     "output_type": "stream",
     "text": [
      "12-09-1992\n",
      "15-12-1999\n"
     ]
    }
   ],
   "source": [
    "date_match=re.findall(pattern,text)\n",
    "\n",
    "for date in date_match:\n",
    "    print(date)"
   ]
  },
  {
   "cell_type": "code",
   "execution_count": 242,
   "id": "3b355b9e",
   "metadata": {},
   "outputs": [],
   "source": [
    "#Question 28"
   ]
  },
  {
   "cell_type": "code",
   "execution_count": 253,
   "id": "19cda14e",
   "metadata": {},
   "outputs": [
    {
     "name": "stdout",
     "output_type": "stream",
     "text": [
      "@Jags123456 Bharat band on 28??<ed>  <ed>  Those who  are protesting #demonetization  are all different party leaders\n"
     ]
    }
   ],
   "source": [
    "def funcremosplchar(str4):\n",
    "    pattern4=re.compile(r'<U\\+\\w{4}>')\n",
    "    \n",
    "    matches4=pattern4.sub(' ',str4)\n",
    "    return(matches4)\n",
    "str4=\"@Jags123456 Bharat band on 28??<ed><U+00A0><U+00BD><ed><U+00B8><U+0082>Those who  are protesting #demonetization  are all different party leaders\"\n",
    "print(funcremosplchar(str4))"
   ]
  },
  {
   "cell_type": "code",
   "execution_count": 254,
   "id": "329a2554",
   "metadata": {},
   "outputs": [],
   "source": [
    "#Question 27"
   ]
  },
  {
   "cell_type": "code",
   "execution_count": 263,
   "id": "99aa4b67",
   "metadata": {},
   "outputs": [
    {
     "name": "stdout",
     "output_type": "stream",
     "text": [
      "#Doltiwal\n",
      "#xyzabc\n",
      "#Demonetization\n"
     ]
    }
   ],
   "source": [
    "pattern5=(r'#\\w*')\n",
    "str5=(\"\"\"RT @kapil_kausik: #Doltiwal I mean #xyzabc is \"hurt\" by #Demonetization as the same has rendered USELESS <ed><U+00A0><U+00BD><ed><U+00B1><U+0089> \"acquired funds\" No wo\"\"\")\n",
    "matches5=re.findall(pattern5,str5)\n",
    "for hashtag in matches5:\n",
    "    print(hashtag)"
   ]
  },
  {
   "cell_type": "code",
   "execution_count": 265,
   "id": "0e84cac1",
   "metadata": {},
   "outputs": [],
   "source": [
    "#Question 26"
   ]
  },
  {
   "cell_type": "code",
   "execution_count": 270,
   "id": "fb1aba69",
   "metadata": {},
   "outputs": [
    {
     "name": "stdout",
     "output_type": "stream",
     "text": [
      "Not Matched\n",
      "Matched\n"
     ]
    }
   ],
   "source": [
    "pattern=(r\".*[a-zA-z0-9]$\")\n",
    "str6=\"INdia is A beautiful country!\"\n",
    "str7=\"INDIA is a beautiful country123\"\n",
    "if re.match(pattern,str6):\n",
    "    print(\"Matched\")\n",
    "else:\n",
    "    print(\"Not Matched\")\n",
    "if re.match(pattern,str7):\n",
    "    print(\"Matched\")\n",
    "else:\n",
    "    print(\"Not Matched\")"
   ]
  },
  {
   "cell_type": "code",
   "execution_count": 271,
   "id": "751434b7",
   "metadata": {},
   "outputs": [],
   "source": [
    "#Question 25"
   ]
  },
  {
   "cell_type": "code",
   "execution_count": 272,
   "id": "78feb48a",
   "metadata": {},
   "outputs": [
    {
     "name": "stdout",
     "output_type": "stream",
     "text": [
      "Hello hello world\n"
     ]
    }
   ],
   "source": [
    "str8=\"Hello hello world world\"\n",
    "pattern=r'\\b(\\w+)(?:\\W+\\1\\b)+'\n",
    "matches8=re.sub(pattern,r'\\1',str8)\n",
    "print(matches8)"
   ]
  },
  {
   "cell_type": "code",
   "execution_count": 273,
   "id": "c107a38d",
   "metadata": {},
   "outputs": [],
   "source": [
    "#Question 24"
   ]
  },
  {
   "cell_type": "code",
   "execution_count": 282,
   "id": "4d882a01",
   "metadata": {},
   "outputs": [
    {
     "name": "stdout",
     "output_type": "stream",
     "text": [
      "['Camel', 'Case', 'Commonly', 'In', 'Programming', 'Languages', 'This', 'Example', 'Of', 'Camel', 'Case']\n"
     ]
    }
   ],
   "source": [
    "pattern=r'([A-Z]+[a-z]+)'\n",
    "str9=\"CamelCase is Commonly used In Programming Languages.This is an ExampleOfCamelCase.\"\n",
    "matches9=re.findall(pattern,str9)\n",
    "print(matches9)"
   ]
  },
  {
   "cell_type": "code",
   "execution_count": 283,
   "id": "79aae780",
   "metadata": {},
   "outputs": [],
   "source": [
    "#Question 23"
   ]
  },
  {
   "cell_type": "code",
   "execution_count": 299,
   "id": "bc21ded7",
   "metadata": {},
   "outputs": [
    {
     "name": "stdout",
     "output_type": "stream",
     "text": [
      "['Regular', 'Expression', 'Is', 'An', 'Important', 'Topic', 'In', 'Python']\n"
     ]
    }
   ],
   "source": [
    "str4=\"RegularExpressionIsAnImportantTopicInPython\"\n",
    "x=re.findall(r'[A-Z][a-z]*',str4)\n",
    "print(x)\n"
   ]
  },
  {
   "cell_type": "code",
   "execution_count": 300,
   "id": "3df6022f",
   "metadata": {},
   "outputs": [],
   "source": [
    "#Question 22"
   ]
  },
  {
   "cell_type": "code",
   "execution_count": 302,
   "id": "6907864b",
   "metadata": {},
   "outputs": [
    {
     "name": "stdout",
     "output_type": "stream",
     "text": [
      "['947', '896', '926', '524', '734', '950', '642']\n"
     ]
    }
   ],
   "source": [
    "sample_text=\"My marks in each semester are: 947, 896, 926, 524, 734, 950, 642\"\n",
    "x=re.findall('\\d+',sample_text)\n",
    "print(x)"
   ]
  },
  {
   "cell_type": "code",
   "execution_count": 303,
   "id": "218625be",
   "metadata": {},
   "outputs": [
    {
     "name": "stdout",
     "output_type": "stream",
     "text": [
      "950\n"
     ]
    }
   ],
   "source": [
    "y=map(int,x)\n",
    "print(max(y))"
   ]
  },
  {
   "cell_type": "code",
   "execution_count": 304,
   "id": "e6ac5c54",
   "metadata": {},
   "outputs": [],
   "source": [
    "#Question 21"
   ]
  },
  {
   "cell_type": "code",
   "execution_count": 3,
   "id": "3fe6f1c1",
   "metadata": {},
   "outputs": [
    {
     "name": "stdout",
     "output_type": "stream",
     "text": [
      "<re.Match object; span=(8, 10), match='12'>\n",
      "8\n"
     ]
    }
   ],
   "source": [
    "\n",
    "str11=\"Anna is 12 years old.She weighs 45 kgs and has 155 cms height. She has 2 pets.\"\n",
    "for j in str11:\n",
    "    matches=re.search(r'(\\d+)',str11)\n",
    "print(matches)\n",
    "print(matches.start())"
   ]
  },
  {
   "cell_type": "code",
   "execution_count": 325,
   "id": "5967acab",
   "metadata": {},
   "outputs": [],
   "source": [
    "#Question 20"
   ]
  },
  {
   "cell_type": "code",
   "execution_count": 327,
   "id": "2be9d05d",
   "metadata": {},
   "outputs": [
    {
     "name": "stdout",
     "output_type": "stream",
     "text": [
      "['01.12', '145.8', '3.01', '27.25', '0.25']\n"
     ]
    }
   ],
   "source": [
    "def funcdecimal(str12):\n",
    "    pattern=re.compile(r'\\b\\d+\\.\\d{1,2}\\b')\n",
    "    x=re.findall(pattern,str12)\n",
    "    return x\n",
    "sample_text=\"01.12 0132.123 2.31875 145.8 3.01 27.25 0.25\"\n",
    "expected_output=funcdecimal(sample_text)\n",
    "print(expected_output)"
   ]
  },
  {
   "cell_type": "code",
   "execution_count": 328,
   "id": "3c4cd143",
   "metadata": {},
   "outputs": [],
   "source": [
    "#Question 19"
   ]
  },
  {
   "cell_type": "code",
   "execution_count": 338,
   "id": "e185d609",
   "metadata": {},
   "outputs": [
    {
     "name": "stdout",
     "output_type": "stream",
     "text": [
      "14-11-2023\n"
     ]
    }
   ],
   "source": [
    "def funcreversedt(str13):\n",
    "    pattern=re.compile(r'(\\d{4})-(\\d{2})-(\\d{2})')\n",
    "    matches=pattern.sub(\"\\\\3-\\\\2-\\\\1\",str13)\n",
    "    return matches\n",
    "str13= \"2023-11-14\"\n",
    "print(funcreversedt(str13))"
   ]
  },
  {
   "cell_type": "code",
   "execution_count": 339,
   "id": "26a3849c",
   "metadata": {},
   "outputs": [],
   "source": [
    "#Question 18"
   ]
  },
  {
   "cell_type": "code",
   "execution_count": 390,
   "id": "cbc97811",
   "metadata": {},
   "outputs": [
    {
     "name": "stdout",
     "output_type": "stream",
     "text": [
      "<re.Match object; span=(35, 41), match='Phyton'>\n",
      "35 \n",
      "\n",
      "<re.Match object; span=(0, 6), match='Phyton'>\n",
      "0 \n",
      "\n"
     ]
    }
   ],
   "source": [
    "string=[\"An Amzing and powerful language is Phyton.\",\"Phyton is user friendly.\"]\n",
    "for j in string:\n",
    "    y=re.search(\"Phyton\",j)\n",
    "    print(y)\n",
    "    print(y.start(),\"\\n\")"
   ]
  }
 ],
 "metadata": {
  "kernelspec": {
   "display_name": "Python 3 (ipykernel)",
   "language": "python",
   "name": "python3"
  },
  "language_info": {
   "codemirror_mode": {
    "name": "ipython",
    "version": 3
   },
   "file_extension": ".py",
   "mimetype": "text/x-python",
   "name": "python",
   "nbconvert_exporter": "python",
   "pygments_lexer": "ipython3",
   "version": "3.9.13"
  }
 },
 "nbformat": 4,
 "nbformat_minor": 5
}
